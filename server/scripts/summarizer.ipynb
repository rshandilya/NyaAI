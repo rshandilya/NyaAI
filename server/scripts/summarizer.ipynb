{
 "cells": [
  {
   "cell_type": "code",
   "execution_count": 1,
   "id": "2c36c4b9-5031-466e-b57a-df4fcf509781",
   "metadata": {},
   "outputs": [],
   "source": [
    "import spacy\n",
    "from spacy.lang.en.stop_words import STOP_WORDS"
   ]
  },
  {
   "cell_type": "code",
   "execution_count": 7,
   "id": "29c4358f-125c-4183-80c2-82be6c8b6e6f",
   "metadata": {},
   "outputs": [],
   "source": [
    "from string import punctuation\n",
    "from heapq import nlargest"
   ]
  },
  {
   "cell_type": "code",
   "execution_count": 2,
   "id": "b863c0d4-011a-4be4-889c-a2defadc35be",
   "metadata": {},
   "outputs": [],
   "source": [
    "def summarizer(text):\n",
    "    '''Summarizes text by tokenizing, creating a word frequency list, \n",
    "        finding sentence scores, and then selecting sentences with \n",
    "        highest sentence scores'''\n",
    "\n",
    "    stopwords = list(STOP_WORDS)\n",
    "    #print(stopwords)\n",
    "\n",
    "    # Loading model for tokenization\n",
    "    nlp = spacy.load('en_core_web_sm')\n",
    "\n",
    "    # Tokenizing text with spacy\n",
    "    doc = nlp(text)\n",
    "\n",
    "    tokens = [token.text for token in doc]\n",
    "    #print(tokens)\n",
    "\n",
    "    # Finding Word Frequencies\n",
    "    word_frequencies = {}\n",
    "\n",
    "    for word in doc:\n",
    "        if word.text.lower() not in stopwords:\n",
    "            if word.text.lower() not in punctuation:\n",
    "                if word.text.lower() not in word_frequencies.keys():\n",
    "                    # Adding new word to word_frequency\n",
    "                    word_frequencies[word.text.lower()] = 1\n",
    "                else:\n",
    "                    # Incrementing frequency in word already exists\n",
    "                    word_frequencies[word.text.lower()] += 1\n",
    "\n",
    "    #print(word_frequencies)\n",
    "\n",
    "    # Normalizing Word Frequencies\n",
    "    max_frequency = max(word_frequencies.values())\n",
    "    #print(max_frequency)\n",
    "\n",
    "    for word in word_frequencies.keys():\n",
    "        word_frequencies[word] /= max_frequency\n",
    "\n",
    "    #print(word_frequencies)\n",
    "\n",
    "    # Sentence Tokenization\n",
    "    sentence_tokens = [sent for sent in doc.sents]\n",
    "    #print(sentence_tokens)\n",
    "\n",
    "    # Calculating sentence scores\n",
    "    sentence_scores = {}\n",
    "\n",
    "    for sent in sentence_tokens:\n",
    "        for word in sent:\n",
    "            if word.text.lower() in word_frequencies.keys():\n",
    "                if sent not in sentence_scores.keys():\n",
    "                    sentence_scores[sent] = word_frequencies[word.text.lower()]\n",
    "                else:\n",
    "                    sentence_scores[sent] += word_frequencies[word.text.lower()]\n",
    "\n",
    "    #print(sentence_scores)\n",
    "\n",
    "    # Getting Sentences with highest scores\n",
    "    sentences_percent = 0.2\n",
    "    sentences_selected = int(len(sentence_tokens)*sentences_percent)\n",
    "    #print(sentences_selected)\n",
    "\n",
    "    #heapq.nlargest(selectCount, iterable, keys )\n",
    "    summary_sentences = nlargest(sentences_selected, sentence_scores, key = sentence_scores.get)\n",
    "    #print(summary_sentences)\n",
    "    summary_sentences = [word.text for word in summary_sentences]\n",
    "    summary = \" \".join(summary_sentences)\n",
    "    return summary"
   ]
  },
  {
   "cell_type": "code",
   "execution_count": 3,
   "id": "6bb0bafb-4392-4764-9d36-e09e501d1800",
   "metadata": {},
   "outputs": [],
   "source": [
    "text = \"\"\"\n",
    "A supreme court is the highest court within the hierarchy of courts in most legal jurisdictions. Other descriptions for such courts include court of last resort, apex court, and high (or final) court of appeal. Broadly speaking, the decisions of a supreme court are not subject to further review by any other court. Supreme courts typically function primarily as appellate courts, hearing appeals from decisions of lower trial courts, or from intermediate-level appellate courts.[1][better source needed]\n",
    "\n",
    "However, not all highest courts are named as such. Civil law states tend not to have a single highest court. Additionally, the highest court in some jurisdictions is not named the \"Supreme Court\", for example, the High Court of Australia. On the other hand, in some places the court named the \"Supreme Court\" is not in fact the highest court; examples include the New York Supreme Court, the supreme courts of several Canadian provinces/territories, and the former Supreme Court of Judicature of England and Wales and Supreme Court of Judicature of Northern Ireland, which are all subordinate to higher courts of appeal.\n",
    "\n",
    "The idea of a supreme court owes much to the framers of the Constitution of the United States. It was while debating the division of powers between the legislative and executive departments that delegates to the 1787 Constitutional Convention established the parameters for the national judiciary. Creating a \"third branch\" of government was a novel idea; in the English tradition, judicial matters had been treated as an aspect of royal (executive) authority. It was also proposed in the Constitutional Convention that the judiciary should have a role in checking the executive power to exercise a veto or to revise laws. In the end, the Framers of the Constitution compromised by sketching only a general outline of the judiciary, vesting of federal judicial power in \"one supreme Court, and in such inferior Courts as the Congress may from time to time ordain and establish\".[2][3] They delineated neither the exact powers and prerogatives of the Supreme Court nor the organization of the Judicial Branch as a whole.\n",
    "\n",
    "Some countries have multiple \"supreme courts\" whose respective jurisdictions have different geographical extents, or which are restricted to particular areas of law. Some countries with a federal system of government may have both a federal supreme court (such as the Supreme Court of the United States), and supreme courts for each member state (such as the Supreme Court of Nevada), with the former having jurisdiction over the latter only to the extent that the federal constitution extends federal law over state law. However, other federations, such as Canada, may have a supreme court of general jurisdiction, able to decide any question of law. Jurisdictions with a civil law system often have a hierarchy of administrative courts separate from the ordinary courts, headed by a supreme administrative court (such as the Supreme Administrative Court of Finland, for example). A number of jurisdictions also maintain a separate constitutional court[4] or other judicial or quasi-judicial body (first developed in the Czechoslovak Constitution of 1920), such as Austria, France, Germany, Italy, Luxembourg, Portugal, Russia, Spain and South Africa. Within the former British Empire, the highest court within a colony was often called the \"Supreme Court\", even though appeals could be made from that court to the United Kingdom's Privy Council (based in London). A number of Commonwealth jurisdictions retain this system, but many others have reconstituted their own highest court as a court of last resort, with the right of appeal to the Privy Council being abolished.\n",
    "\n",
    "In jurisdictions using a common law system, the doctrine of stare decisis applies, whereby the principles applied by the supreme court in its decisions are binding upon all lower courts; this is intended to apply a uniform interpretation and implementation of the law. In civil law jurisdictions the doctrine of stare decisis is not generally considered to apply, so the decisions of the supreme court are not necessarily binding beyond the immediate case before it; however, in practice the decisions of the supreme court usually provide a very strong precedent, or jurisprudence constante, for both itself and all lower courts. \n",
    "\"\"\""
   ]
  },
  {
   "cell_type": "code",
   "execution_count": 8,
   "id": "051142a0-6810-4f05-9f14-3ea31f8e6c18",
   "metadata": {},
   "outputs": [],
   "source": [
    "out = summarizer(text)"
   ]
  },
  {
   "cell_type": "code",
   "execution_count": 9,
   "id": "2a3b3661-eac6-471c-ba2b-fa3c2e1ff11e",
   "metadata": {},
   "outputs": [
    {
     "data": {
      "text/plain": [
       "'On the other hand, in some places the court named the \"Supreme Court\" is not in fact the highest court; examples include the New York Supreme Court, the supreme courts of several Canadian provinces/territories, and the former Supreme Court of Judicature of England and Wales and Supreme Court of Judicature of Northern Ireland, which are all subordinate to higher courts of appeal.\\n\\n Some countries with a federal system of government may have both a federal supreme court (such as the Supreme Court of the United States), and supreme courts for each member state (such as the Supreme Court of Nevada), with the former having jurisdiction over the latter only to the extent that the federal constitution extends federal law over state law. Jurisdictions with a civil law system often have a hierarchy of administrative courts separate from the ordinary courts, headed by a supreme administrative court (such as the Supreme Administrative Court of Finland, for example). In civil law jurisdictions the doctrine of stare decisis is not generally considered to apply, so the decisions of the supreme court are not necessarily binding beyond the immediate case before it; however, in practice the decisions of the supreme court usually provide a very strong precedent, or jurisprudence constante, for both itself and all lower courts. \\n'"
      ]
     },
     "execution_count": 9,
     "metadata": {},
     "output_type": "execute_result"
    }
   ],
   "source": [
    "out"
   ]
  }
 ],
 "metadata": {
  "kernelspec": {
   "display_name": "Python 3 (ipykernel)",
   "language": "python",
   "name": "python3"
  },
  "language_info": {
   "codemirror_mode": {
    "name": "ipython",
    "version": 3
   },
   "file_extension": ".py",
   "mimetype": "text/x-python",
   "name": "python",
   "nbconvert_exporter": "python",
   "pygments_lexer": "ipython3",
   "version": "3.11.0"
  }
 },
 "nbformat": 4,
 "nbformat_minor": 5
}
